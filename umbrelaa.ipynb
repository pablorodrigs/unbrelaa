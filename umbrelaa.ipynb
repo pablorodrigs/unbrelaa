{
 "cells": [
  {
   "cell_type": "code",
   "execution_count": 2,
   "id": "f0c87108",
   "metadata": {},
   "outputs": [],
   "source": [
    "import tkinter as tk\n",
    "import requests\n",
    "import time\n",
    "\n",
    "def getWwather():\n",
    "    City = textfield.get()\n",
    "    API = /// por api\n",
    "    json_data = request.get(api).json()\n",
    "    condition = json_data['wather'][0]['main]\n",
    "     temp = int(json_sata['main]['temp'] \\\\\\ por numero \n",
    "      min_temp = int(json_data['main]['temp_min'] -  \\\\\\ numero\n",
    "       max_temp = int(intjson_data['main]['temp_max']\n",
    "         pressure = json_data ['main]['pressure'] \n",
    "           humity = json_data ['main][' humity']\n",
    "             wind = json_data['wind']['spead']\n",
    "              sunrise = time.strftime(\"%I:%M:%S\", time.gmtime9json_data['sys]['sunrise]))\n",
    "              sunsettime.strftime(\"%I:%M:%S\", time.gmtime9json_data['sys]['sunset]))\n",
    "\n",
    "                               \n",
    "canvas = tk.TK()\n",
    "canvas.geometry(\"600x500\")\n",
    "canvas.ttle(\"weather app\")\n",
    "\n",
    "a = (\"poppins\", 15,\"bold\")\n",
    "b = (\"poppins\",35,\"bold\")\n",
    "\n",
    "textfield = tk.entry(canvas,font = b)\n",
    "textfield.pack(pady = 20)\n",
    "textfield.focus()\n",
    "\n",
    "labelt = tk.Label(canvas,font = b)\n",
    "label1.pack()\n",
    "label2 = tk.Label(canvas,font = a)\n",
    "label2.pack()\n",
    "\n",
    "canvas.mainloop()\n",
    "\n",
    "\n",
    "\n",
    "def getWeather(canvas):\n",
    "    city = textField.get()\n",
    "    api = \"https://api.openweathermap.org/data/2.5/weather?q=\"+city+\"&appid=06c921750b9a82d8f5d1294e1586276f\"\n",
    "    \n",
    "    json_data = requests.get(api).json()\n",
    "    condition = json_data['weather'][0]['main']\n",
    "    temp = int(json_data['main']['temp'] - 273.15)\n",
    "    min_temp = int(json_data['main']['temp_min'] - 273.15)\n",
    "    max_temp = int(json_data['main']['temp_max'] - 273.15)\n",
    "    pressure = json_data['main']['pressure']\n",
    "    humidity = json_data['main']['humidity']\n",
    "    wind = json_data['wind']['speed']\n",
    "    sunrise = time.strftime('%I:%M:%S', time.gmtime(json_data['sys']['sunrise'] - 21600))\n",
    "    sunset = time.strftime('%I:%M:%S', time.gmtime(json_data['sys']['sunset'] - 21600))\n",
    "\n",
    "    final_info = condition + \"\\n\" + str(temp) + \"°C\" \n",
    "    final_data = \"\\n\"+ \"Min Temp: \" + str(min_temp) + \"°C\" + \"\\n\" + \"Max Temp: \" + str(max_temp) + \"°C\" +\"\\n\" + \"Pressure: \" + str(pressure) + \"\\n\" +\"Humidity: \" + str(humidity) + \"\\n\" +\"Wind Speed: \" + str(wind) + \"\\n\" + \"Sunrise: \" + sunrise + \"\\n\" + \"Sunset: \" + sunset\n",
    "    label1.config(text = final_info)\n",
    "    label2.config(text = final_data)\n",
    "\n",
    "    nvas.mainloop()"
   ]
  },
  {
   "cell_type": "code",
   "execution_count": null,
   "id": "9cf76815",
   "metadata": {},
   "outputs": [],
   "source": []
  },
  {
   "cell_type": "code",
   "execution_count": null,
   "id": "9ea61270",
   "metadata": {},
   "outputs": [],
   "source": []
  },
  {
   "cell_type": "code",
   "execution_count": null,
   "id": "0f6a5505",
   "metadata": {},
   "outputs": [],
   "source": []
  }
 ],
 "metadata": {
  "kernelspec": {
   "display_name": "Python 3 (ipykernel)",
   "language": "python",
   "name": "python3"
  },
  "language_info": {
   "codemirror_mode": {
    "name": "ipython",
    "version": 3
   },
   "file_extension": ".py",
   "mimetype": "text/x-python",
   "name": "python",
   "nbconvert_exporter": "python",
   "pygments_lexer": "ipython3",
   "version": "3.9.7"
  }
 },
 "nbformat": 4,
 "nbformat_minor": 5
}
